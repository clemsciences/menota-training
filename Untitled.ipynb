{
 "cells": [
  {
   "cell_type": "code",
   "execution_count": 2,
   "id": "about-temple",
   "metadata": {},
   "outputs": [],
   "source": [
    "import codecs\n",
    "import json\n",
    "import os\n",
    "import random\n",
    "\n",
    "\n",
    "import spacy\n",
    "from spacy.tokens import DocBin, Doc\n",
    "from spacy.training import Example"
   ]
  },
  {
   "cell_type": "code",
   "execution_count": 46,
   "id": "conditional-recommendation",
   "metadata": {},
   "outputs": [],
   "source": [
    "def read_menota_annotations_for_spacy():\n",
    "    l = []\n",
    "    with codecs.open(os.path.join(\"data-menota-spacy.json\"), \"r\", encoding=\"utf-8\") as f:\n",
    "        for line in f:\n",
    "            line = json.loads(line)\n",
    "            l.append(line)\n",
    "    return l\n",
    "\n",
    "\n",
    "def create_vocab(training_data):\n",
    "    vocabulary_set = set()\n",
    "    for text, _ in training_data:\n",
    "        for lemma in text:\n",
    "            vocabulary_set.add(lemma)\n",
    "    return vocabulary_set\n",
    "\n",
    "\n",
    "def create_training(training_data):\n",
    "    vocab = spacy.Vocab(string=create_vocab(training_data))\n",
    "    nlp = spacy.blank(\"is\")\n",
    "    db = DocBin()  # create a DocBin object\n",
    "    for item in training_data:\n",
    "        words = item[0]\n",
    "        pos = item[1]\n",
    "#         example = Example.from_dict(Doc(vocab, words=words), pos)\n",
    "        try:\n",
    "            example = Example.from_dict(nlp.make_doc(\" \".join(words)), pos)\n",
    "            db.add(example.reference)\n",
    "        except:\n",
    "            ValueError\n",
    "\n",
    "    return db\n",
    "\n",
    "\n",
    "def save_training_data(training_data):\n",
    "    random.shuffle(training_data)\n",
    "    valid = training_data[:500]\n",
    "    train = training_data[500:]\n",
    "\n",
    "    train = create_training(train)\n",
    "    train.to_disk(\"./data/train.spacy\")\n",
    "\n",
    "    valid = create_training(valid)\n",
    "    valid.to_disk(\"./data/valid.spacy\")\n",
    "\n",
    "\n",
    "def reduce_tags(pos_tag: str) -> str:\n",
    "    first_part = pos_tag.strip().split(\" \")[0]\n",
    "    if \"|\" in first_part:\n",
    "        return reduce_tags(first_part.split(\"|\")[0])\n",
    "    if first_part.startswith(\"x\"):\n",
    "        return first_part[1:]\n",
    "    elif \"00000\" == first_part:\n",
    "        return \"\"\n",
    "    else:\n",
    "        return pos_tag\n",
    "\n",
    "\n",
    "def from_text_annotations_to_spacy_training_data(data):\n",
    "    l = []\n",
    "    for doc in data:\n",
    "        ll = []\n",
    "        for sentence, annotation in doc:\n",
    "            try:\n",
    "                ll.append(([token.lower() for token in sentence],\n",
    "                           dict(pos=[reduce_tags(tag) for tag in annotation[\"pos\"]])))\n",
    "                # lemmas=annotation[\"lemmas\"]\n",
    "            except AttributeError:\n",
    "                print(sentence)\n",
    "                print(annotation)\n",
    "        l.extend(ll)\n",
    "    return l"
   ]
  },
  {
   "cell_type": "code",
   "execution_count": 47,
   "id": "capable-distance",
   "metadata": {},
   "outputs": [],
   "source": [
    "data = read_menota_annotations_for_spacy()"
   ]
  },
  {
   "cell_type": "code",
   "execution_count": 48,
   "id": "polyphonic-newspaper",
   "metadata": {},
   "outputs": [],
   "source": [
    "pos_training_data = from_text_annotations_to_spacy_training_data(data)"
   ]
  },
  {
   "cell_type": "code",
   "execution_count": 49,
   "id": "primary-dining",
   "metadata": {},
   "outputs": [],
   "source": [
    "save_training_data(pos_training_data)"
   ]
  },
  {
   "cell_type": "code",
   "execution_count": null,
   "id": "proof-click",
   "metadata": {},
   "outputs": [],
   "source": [
    "!python -m spacy preprocess data-menota-spacy.json"
   ]
  },
  {
   "cell_type": "code",
   "execution_count": 50,
   "id": "constant-decrease",
   "metadata": {},
   "outputs": [
    {
     "data": {
      "text/plain": [
       "(['-', '-', '-', '-', '-', '-'], {'pos': ['CU', 'AV', 'VB', 'AV', 'NC', 'AV']})"
      ]
     },
     "execution_count": 50,
     "metadata": {},
     "output_type": "execute_result"
    }
   ],
   "source": [
    "pos_training_data[0]"
   ]
  },
  {
   "cell_type": "code",
   "execution_count": 52,
   "id": "greater-malta",
   "metadata": {},
   "outputs": [
    {
     "name": "stdout",
     "output_type": "stream",
     "text": [
      "[+] Auto-filled config with all values"
     ]
    },
    {
     "name": "stderr",
     "output_type": "stream",
     "text": [
      "2021-09-22 16:01:33.975015: I tensorflow/stream_executor/platform/default/dso_loader.cc:49] Successfully opened dynamic library cudart64_110.dll\n"
     ]
    },
    {
     "name": "stdout",
     "output_type": "stream",
     "text": [
      "\n",
      "[+] Saved config\n",
      "config.cfg\n",
      "You can now add your data and train your pipeline:\n",
      "python -m spacy train config.cfg --paths.train ./train.spacy --paths.dev ./dev.spacy\n"
     ]
    }
   ],
   "source": [
    "!python -m spacy init fill-config base_config.cfg config.cfg"
   ]
  },
  {
   "cell_type": "code",
   "execution_count": 68,
   "id": "hairy-tattoo",
   "metadata": {},
   "outputs": [],
   "source": [
    "nlp = spacy.blank(\"is\")\n",
    "tagger = nlp.add_pipe(\"tagger\")\n",
    "tags = []\n",
    "for item in pos_training_data:\n",
    "    labels = item[1][\"pos\"]\n",
    "    for label in labels:\n",
    "        tagger.add_label(label)\n",
    "        tags.append(label)\n",
    "tags = list(set(tags))\n",
    "with open (\"tag.json\", \"w\", encoding='utf-8') as f:\n",
    "    json.dump(tags, f, indent=4)\n",
    "nlp.to_disk(\"output/test\")"
   ]
  },
  {
   "cell_type": "code",
   "execution_count": 71,
   "id": "native-utilization",
   "metadata": {},
   "outputs": [
    {
     "name": "stdout",
     "output_type": "stream",
     "text": [
      "^C\n"
     ]
    },
    {
     "name": "stderr",
     "output_type": "stream",
     "text": [
      "2021-09-22 16:20:04.470701: I tensorflow/stream_executor/platform/default/dso_loader.cc:49] Successfully opened dynamic library cudart64_110.dll\n",
      "[2021-09-22 16:20:08,523] [INFO] Set up nlp object from config\n",
      "[2021-09-22 16:20:08,531] [INFO] Pipeline: ['tagger']\n",
      "[2021-09-22 16:20:08,541] [INFO] Created vocabulary\n",
      "[2021-09-22 16:20:08,542] [INFO] Finished initializing nlp object\n",
      "[2021-09-22 16:20:16,609] [INFO] Initialized pipeline components: ['tagger']\n"
     ]
    },
    {
     "name": "stdout",
     "output_type": "stream",
     "text": [
      "[i] Using CPU\n",
      "\u001b[1m\n",
      "=========================== Initializing pipeline ===========================\u001b[0m\n",
      "[+] Initialized pipeline\n",
      "\u001b[1m\n",
      "============================= Training pipeline =============================\u001b[0m\n",
      "[i] Pipeline: ['tagger']\n",
      "[i] Initial learn rate: 0.001\n",
      "E    #       LOSS TAGGER  TAG_ACC  SCORE \n",
      "---  ------  -----------  -------  ------\n",
      "  0       0         0.00     0.00    0.00\n",
      "  0     200         0.00     0.00    0.00\n",
      "  0     400         0.00     0.00    0.00\n",
      "  0     600         0.00     0.00    0.00\n",
      "  0     800         0.00     0.00    0.00\n",
      "  0    1000         0.00     0.00    0.00\n",
      "  0    1200         0.00     0.00    0.00\n",
      "  0    1400         0.00     0.00    0.00\n",
      "  1    1600         0.00     0.00    0.00\n",
      "[+] Saved pipeline to output directory\n",
      "output\\model-last\n"
     ]
    }
   ],
   "source": [
    "!python -m spacy train output/test/config.cfg --output ./output --paths.train data/train.spacy --paths.dev data/valid.spacy"
   ]
  },
  {
   "cell_type": "code",
   "execution_count": null,
   "id": "uniform-corruption",
   "metadata": {},
   "outputs": [],
   "source": []
  }
 ],
 "metadata": {
  "kernelspec": {
   "display_name": "Python 3",
   "language": "python",
   "name": "python3"
  },
  "language_info": {
   "codemirror_mode": {
    "name": "ipython",
    "version": 3
   },
   "file_extension": ".py",
   "mimetype": "text/x-python",
   "name": "python",
   "nbconvert_exporter": "python",
   "pygments_lexer": "ipython3",
   "version": "3.9.2"
  }
 },
 "nbformat": 4,
 "nbformat_minor": 5
}
