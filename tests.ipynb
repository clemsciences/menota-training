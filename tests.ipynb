{
 "cells": [
  {
   "cell_type": "code",
   "execution_count": 1,
   "id": "03e41b18",
   "metadata": {},
   "outputs": [],
   "source": [
    "import spacy"
   ]
  },
  {
   "cell_type": "code",
   "execution_count": 4,
   "id": "25ff4861",
   "metadata": {},
   "outputs": [],
   "source": [
    "nlp = spacy.load(\"output/model-last\")"
   ]
  },
  {
   "cell_type": "code",
   "execution_count": 5,
   "id": "194f324a",
   "metadata": {},
   "outputs": [],
   "source": [
    "doc = nlp(\"Hann var konungr\")"
   ]
  },
  {
   "cell_type": "code",
   "execution_count": 6,
   "id": "65277df6",
   "metadata": {},
   "outputs": [
    {
     "name": "stdout",
     "output_type": "stream",
     "text": [
      "UA\n",
      "VB\n",
      "NC\n"
     ]
    }
   ],
   "source": [
    "for i in doc:\n",
    "    print(i.tag_)"
   ]
  },
  {
   "cell_type": "code",
   "execution_count": 7,
   "id": "2a830b41",
   "metadata": {},
   "outputs": [],
   "source": [
    "doc1 = nlp(\"Óláfr hét herkonungr, er kallaðr var Óláfr hvíti. Hann var sonr Ingjalds konungs Helgasonar, Óláfssonar, Guðröðarsonar, Hálfdanarsonar hvítbeins Upplendingakonungs. \")"
   ]
  },
  {
   "cell_type": "code",
   "execution_count": 9,
   "id": "e3058f82",
   "metadata": {},
   "outputs": [
    {
     "name": "stdout",
     "output_type": "stream",
     "text": [
      "Óláfr NP\n",
      "hét VB\n",
      "herkonungr NP\n",
      ", -\n",
      "er RP\n",
      "kallaðr VB\n",
      "var VB\n",
      "Óláfr NC\n",
      "hvíti AJ\n",
      ". AJ\n",
      "Hann NC\n",
      "var VB\n",
      "sonr NC\n",
      "Ingjalds NP\n",
      "konungs NC\n",
      "Helgasonar NC\n",
      ", -\n",
      "Óláfssonar NP\n",
      ", -\n",
      "Guðröðarsonar NC\n",
      ", -\n",
      "Hálfdanarsonar DP\n",
      "hvítbeins NC\n",
      "Upplendingakonungs VB\n",
      ". NC\n"
     ]
    }
   ],
   "source": [
    "for i in doc1:\n",
    "    print(i.text, i.tag_)"
   ]
  }
 ],
 "metadata": {
  "kernelspec": {
   "display_name": "Python 3 (ipykernel)",
   "language": "python",
   "name": "python3"
  },
  "language_info": {
   "codemirror_mode": {
    "name": "ipython",
    "version": 3
   },
   "file_extension": ".py",
   "mimetype": "text/x-python",
   "name": "python",
   "nbconvert_exporter": "python",
   "pygments_lexer": "ipython3",
   "version": "3.8.3"
  }
 },
 "nbformat": 4,
 "nbformat_minor": 5
}
